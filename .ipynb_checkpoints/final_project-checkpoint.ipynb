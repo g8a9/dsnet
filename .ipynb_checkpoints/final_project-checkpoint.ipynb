{
 "cells": [
  {
   "cell_type": "markdown",
   "metadata": {},
   "source": [
    "# Data Science for Networks"
   ]
  },
  {
   "cell_type": "code",
   "execution_count": 1,
   "metadata": {},
   "outputs": [],
   "source": [
    "%matplotlib inline\n",
    "\n",
    "import os\n",
    "import pandas as pd\n",
    "import matplotlib.pyplot as plt"
   ]
  },
  {
   "cell_type": "code",
   "execution_count": 2,
   "metadata": {},
   "outputs": [
    {
     "data": {
      "text/plain": [
       "502"
      ]
     },
     "execution_count": 2,
     "metadata": {},
     "output_type": "execute_result"
    }
   ],
   "source": [
    "def _date_parser(x):\n",
    "    return pd.to_datetime(x, yearfirst=True, format='%Y-%m-%d')\n",
    "\n",
    "data_dir = 'historical-prices'\n",
    "files = os.listdir(data_dir)\n",
    "files.sort()\n",
    "len(files)"
   ]
  },
  {
   "cell_type": "markdown",
   "metadata": {},
   "source": [
    "Retain only stocks whose series are complete between 2007 and 2017."
   ]
  },
  {
   "cell_type": "code",
   "execution_count": 31,
   "metadata": {
    "scrolled": true
   },
   "outputs": [],
   "source": [
    "desired_size = 251 # 503 for 2016+2017\n",
    "stock_series = []\n",
    "for file in files:\n",
    "    df = pd.read_csv(os.path.join(data_dir, file), header=0, index_col=0, parse_dates=True, \n",
    "                     date_parser=_date_parser)    \n",
    "    s = df.loc['2017':'2017', 'Close']\n",
    "    s.name = file.split('_')[0]\n",
    "    # print(s.size)\n",
    "    if s.size == desired_size:\n",
    "        stock_series += [s]"
   ]
  },
  {
   "cell_type": "code",
   "execution_count": null,
   "metadata": {},
   "outputs": [],
   "source": []
  },
  {
   "cell_type": "markdown",
   "metadata": {},
   "source": [
    "Find relative difference with respect to the previous day."
   ]
  },
  {
   "cell_type": "code",
   "execution_count": 25,
   "metadata": {
    "scrolled": true
   },
   "outputs": [],
   "source": [
    "diffs = [s.diff() for s in stock_series]\n",
    "pdiffs = [s.diff() / s.shift(1) for s in stock_series]\n",
    "pdiffs = [s[1:] for s in pdiffs]\n",
    "# print(stock_series[0].iloc[:5], diffs[0].iloc[:5], pdiffs[0].iloc[:5])\n",
    "pdiffs = pdiffs[:-1]\n",
    "# pdiffs"
   ]
  },
  {
   "cell_type": "markdown",
   "metadata": {},
   "source": [
    "Create sparse Dictionary Of Keys (see also scipy.dox_matrix)"
   ]
  },
  {
   "cell_type": "code",
   "execution_count": 26,
   "metadata": {},
   "outputs": [
    {
     "data": {
      "text/plain": [
       "(498, 498, 502)"
      ]
     },
     "execution_count": 26,
     "metadata": {},
     "output_type": "execute_result"
    }
   ],
   "source": [
    "r = c = len(pdiffs)\n",
    "t = pdiffs[0].size\n",
    "r, c, t"
   ]
  },
  {
   "cell_type": "code",
   "execution_count": 27,
   "metadata": {
    "scrolled": true
   },
   "outputs": [],
   "source": [
    "stock_to_id = {}\n",
    "id_to_stock = {}\n",
    "for stock in pdiffs:\n",
    "    stock_to_id[stock.name] = len(stock_to_id)\n",
    "    id_to_stock[len(stock_to_id) - 1] = stock.name\n",
    "# print(stock_to_id, id_to_stock)"
   ]
  },
  {
   "cell_type": "code",
   "execution_count": 28,
   "metadata": {},
   "outputs": [],
   "source": [
    "import sparse\n",
    "\n",
    "'''\n",
    "X = sparse.DOK(shape=(len(filtered_users), len(filtered_tags), len(time)))\n",
    "for user, tag, ts in filtered_mentions:\n",
    "    X[filtered_users[user], filtered_tags[tag], time[ts]] = filtered_mentions[user, tag, ts]\n",
    "X = X.to_coo()\n",
    "'''\n",
    "\n",
    "X = sparse.DOK(shape=(r, c, t))"
   ]
  },
  {
   "cell_type": "markdown",
   "metadata": {},
   "source": [
    "Populate sparse matrix"
   ]
  },
  {
   "cell_type": "code",
   "execution_count": 8,
   "metadata": {
    "scrolled": false
   },
   "outputs": [
    {
     "name": "stdout",
     "output_type": "stream",
     "text": [
      "t: 0\n",
      "t: 1\n",
      "t: 2\n",
      "t: 3\n",
      "t: 4\n",
      "t: 5\n",
      "t: 6\n",
      "t: 7\n",
      "t: 8\n",
      "t: 9\n",
      "t: 10\n",
      "t: 11\n",
      "t: 12\n",
      "t: 13\n",
      "t: 14\n",
      "t: 15\n",
      "t: 16\n",
      "t: 17\n",
      "t: 18\n",
      "t: 19\n",
      "t: 20\n",
      "t: 21\n",
      "t: 22\n",
      "t: 23\n",
      "t: 24\n",
      "t: 25\n",
      "t: 26\n",
      "t: 27\n",
      "t: 28\n",
      "t: 29\n",
      "t: 30\n",
      "t: 31\n",
      "t: 32\n",
      "t: 33\n",
      "t: 34\n",
      "t: 35\n"
     ]
    },
    {
     "ename": "KeyboardInterrupt",
     "evalue": "",
     "output_type": "error",
     "traceback": [
      "\u001b[0;31m---------------------------------------------------------------------------\u001b[0m",
      "\u001b[0;31mKeyboardInterrupt\u001b[0m                         Traceback (most recent call last)",
      "\u001b[0;32m<ipython-input-8-3f4c182aea47>\u001b[0m in \u001b[0;36m<module>\u001b[0;34m\u001b[0m\n\u001b[1;32m      8\u001b[0m                 \u001b[0;32mcontinue\u001b[0m\u001b[0;34m\u001b[0m\u001b[0;34m\u001b[0m\u001b[0m\n\u001b[1;32m      9\u001b[0m \u001b[0;34m\u001b[0m\u001b[0m\n\u001b[0;32m---> 10\u001b[0;31m             \u001b[0;32mif\u001b[0m \u001b[0mitem_i\u001b[0m\u001b[0;34m.\u001b[0m\u001b[0miloc\u001b[0m\u001b[0;34m[\u001b[0m\u001b[0mtime\u001b[0m\u001b[0;34m]\u001b[0m \u001b[0;34m>\u001b[0m \u001b[0;36m0\u001b[0m \u001b[0;32mand\u001b[0m \u001b[0mitem_j\u001b[0m\u001b[0;34m.\u001b[0m\u001b[0miloc\u001b[0m\u001b[0;34m[\u001b[0m\u001b[0mtime\u001b[0m\u001b[0;34m]\u001b[0m \u001b[0;34m>\u001b[0m \u001b[0;36m0\u001b[0m\u001b[0;34m:\u001b[0m\u001b[0;34m\u001b[0m\u001b[0;34m\u001b[0m\u001b[0m\n\u001b[0m\u001b[1;32m     11\u001b[0m                 \u001b[0mX\u001b[0m\u001b[0;34m[\u001b[0m\u001b[0mi\u001b[0m\u001b[0;34m,\u001b[0m \u001b[0mj\u001b[0m\u001b[0;34m,\u001b[0m \u001b[0mtime\u001b[0m\u001b[0;34m]\u001b[0m \u001b[0;34m=\u001b[0m \u001b[0;36m1\u001b[0m\u001b[0;34m\u001b[0m\u001b[0;34m\u001b[0m\u001b[0m\n\u001b[1;32m     12\u001b[0m             \u001b[0;32melse\u001b[0m\u001b[0;34m:\u001b[0m\u001b[0;34m\u001b[0m\u001b[0;34m\u001b[0m\u001b[0m\n",
      "\u001b[0;32m~/miniconda3/envs/dsnet/lib/python3.7/site-packages/pandas/core/indexing.py\u001b[0m in \u001b[0;36m__getitem__\u001b[0;34m(self, key)\u001b[0m\n\u001b[1;32m   1498\u001b[0m \u001b[0;34m\u001b[0m\u001b[0m\n\u001b[1;32m   1499\u001b[0m             \u001b[0mmaybe_callable\u001b[0m \u001b[0;34m=\u001b[0m \u001b[0mcom\u001b[0m\u001b[0;34m.\u001b[0m\u001b[0mapply_if_callable\u001b[0m\u001b[0;34m(\u001b[0m\u001b[0mkey\u001b[0m\u001b[0;34m,\u001b[0m \u001b[0mself\u001b[0m\u001b[0;34m.\u001b[0m\u001b[0mobj\u001b[0m\u001b[0;34m)\u001b[0m\u001b[0;34m\u001b[0m\u001b[0;34m\u001b[0m\u001b[0m\n\u001b[0;32m-> 1500\u001b[0;31m             \u001b[0;32mreturn\u001b[0m \u001b[0mself\u001b[0m\u001b[0;34m.\u001b[0m\u001b[0m_getitem_axis\u001b[0m\u001b[0;34m(\u001b[0m\u001b[0mmaybe_callable\u001b[0m\u001b[0;34m,\u001b[0m \u001b[0maxis\u001b[0m\u001b[0;34m=\u001b[0m\u001b[0maxis\u001b[0m\u001b[0;34m)\u001b[0m\u001b[0;34m\u001b[0m\u001b[0;34m\u001b[0m\u001b[0m\n\u001b[0m\u001b[1;32m   1501\u001b[0m \u001b[0;34m\u001b[0m\u001b[0m\n\u001b[1;32m   1502\u001b[0m     \u001b[0;32mdef\u001b[0m \u001b[0m_is_scalar_access\u001b[0m\u001b[0;34m(\u001b[0m\u001b[0mself\u001b[0m\u001b[0;34m,\u001b[0m \u001b[0mkey\u001b[0m\u001b[0;34m)\u001b[0m\u001b[0;34m:\u001b[0m\u001b[0;34m\u001b[0m\u001b[0;34m\u001b[0m\u001b[0m\n",
      "\u001b[0;32m~/miniconda3/envs/dsnet/lib/python3.7/site-packages/pandas/core/indexing.py\u001b[0m in \u001b[0;36m_getitem_axis\u001b[0;34m(self, key, axis)\u001b[0m\n\u001b[1;32m   2228\u001b[0m \u001b[0;34m\u001b[0m\u001b[0m\n\u001b[1;32m   2229\u001b[0m             \u001b[0;31m# validate the location\u001b[0m\u001b[0;34m\u001b[0m\u001b[0;34m\u001b[0m\u001b[0;34m\u001b[0m\u001b[0m\n\u001b[0;32m-> 2230\u001b[0;31m             \u001b[0mself\u001b[0m\u001b[0;34m.\u001b[0m\u001b[0m_validate_integer\u001b[0m\u001b[0;34m(\u001b[0m\u001b[0mkey\u001b[0m\u001b[0;34m,\u001b[0m \u001b[0maxis\u001b[0m\u001b[0;34m)\u001b[0m\u001b[0;34m\u001b[0m\u001b[0;34m\u001b[0m\u001b[0m\n\u001b[0m\u001b[1;32m   2231\u001b[0m \u001b[0;34m\u001b[0m\u001b[0m\n\u001b[1;32m   2232\u001b[0m             \u001b[0;32mreturn\u001b[0m \u001b[0mself\u001b[0m\u001b[0;34m.\u001b[0m\u001b[0m_get_loc\u001b[0m\u001b[0;34m(\u001b[0m\u001b[0mkey\u001b[0m\u001b[0;34m,\u001b[0m \u001b[0maxis\u001b[0m\u001b[0;34m=\u001b[0m\u001b[0maxis\u001b[0m\u001b[0;34m)\u001b[0m\u001b[0;34m\u001b[0m\u001b[0;34m\u001b[0m\u001b[0m\n",
      "\u001b[0;31mKeyboardInterrupt\u001b[0m: "
     ]
    }
   ],
   "source": [
    "tr = 0.01\n",
    "\n",
    "for time in range(t):\n",
    "    print(\"t:\", time)\n",
    "    for i, item_i in enumerate(pdiffs):\n",
    "        for j, item_j in enumerate(pdiffs):\n",
    "            # print(i, j)\n",
    "            if i == j:\n",
    "                X[i, j, time] = 0\n",
    "                continue\n",
    "            \n",
    "            if item_i.iloc[time] > 0 and item_j.iloc[time] > 0:\n",
    "                X[i, j, time] = 1\n",
    "            else:\n",
    "                X[i, j, time] = 0\n",
    "\n",
    "XCOO = X.to_coo()"
   ]
  },
  {
   "cell_type": "code",
   "execution_count": 8,
   "metadata": {},
   "outputs": [
    {
     "data": {
      "text/plain": [
       "(443, 443, 10)"
      ]
     },
     "execution_count": 8,
     "metadata": {},
     "output_type": "execute_result"
    }
   ],
   "source": [
    "XCOO.shape"
   ]
  },
  {
   "cell_type": "code",
   "execution_count": 11,
   "metadata": {},
   "outputs": [
    {
     "data": {
      "text/plain": [
       "<COO: shape=(443, 443, 10), dtype=float64, nnz=594456, fill_value=0.0>"
      ]
     },
     "execution_count": 11,
     "metadata": {},
     "output_type": "execute_result"
    }
   ],
   "source": [
    "import tensorly as tl\n",
    "tl.set_backend('sparse')\n",
    "\n",
    "import tensorly.contrib.sparse as tlsp\n",
    "from tensorly.contrib.sparse.decomposition import parafac\n",
    "#from tensorly.sparse.decomposition import parafac\n",
    "\n",
    "X = tlsp.tensor(XCOO)\n",
    "X"
   ]
  },
  {
   "cell_type": "code",
   "execution_count": 13,
   "metadata": {},
   "outputs": [
    {
     "data": {
      "text/plain": [
       "((443, 5), (443, 5), (10, 5))"
      ]
     },
     "execution_count": 13,
     "metadata": {},
     "output_type": "execute_result"
    }
   ],
   "source": [
    "A, B, C = parafac(X, 5)\n",
    "A.shape, B.shape, C.shape"
   ]
  },
  {
   "cell_type": "code",
   "execution_count": 27,
   "metadata": {
    "scrolled": false
   },
   "outputs": [
    {
     "name": "stdout",
     "output_type": "stream",
     "text": [
      "116 DHR 29.563064212000995\n",
      "DHR 424 WELL 29.54634400995975\n",
      "WELL 441 ZBH 29.47441852645973\n",
      "ZBH 90 CMCSA 29.464632040779744\n",
      "CMCSA 320 PFE 29.464632040779744\n",
      "PFE ---\n",
      "295 NFX 0.0006080285982772589\n",
      "NFX 286 MU 0.0005695754082022597\n",
      "MU 185 GT 0.0004412498302841359\n",
      "GT 60 BHGE 0.0004027984042258801\n",
      "BHGE 298 NKTR -0.000991153389755828\n",
      "NKTR \n"
     ]
    },
    {
     "data": {
      "image/png": "[encoded data removed]",
      "text/plain": [
       "<Figure size 432x288 with 1 Axes>"
      ]
     },
     "metadata": {
      "needs_background": "light"
     },
     "output_type": "display_data"
    },
    {
     "name": "stdout",
     "output_type": "stream",
     "text": [
      "\n",
      "\n",
      "74 CBRE 0.4321240202914957\n",
      "CBRE 270 MGM 0.4321240202914957\n",
      "MGM 242 K 0.4321240202914957\n",
      "K 401 UHS 0.410096701656426\n",
      "UHS 296 NI 0.4043155902005177\n",
      "NI ---\n",
      "150 EW 0.0711873720895145\n",
      "EW 197 HOLX 0.07073147822579334\n",
      "HOLX 215 INTU 0.07070942950732073\n",
      "INTU 188 HAS 0.07070942950732073\n",
      "HAS 240 KSS 0.07070942950732073\n",
      "KSS \n"
     ]
    },
    {
     "data": {
      "image/png": "[encoded data removed]",
      "text/plain": [
       "<Figure size 432x288 with 1 Axes>"
      ]
     },
     "metadata": {
      "needs_background": "light"
     },
     "output_type": "display_data"
    },
    {
     "name": "stdout",
     "output_type": "stream",
     "text": [
      "\n",
      "\n",
      "246 LH 9.982756566677724\n",
      "LH 194 HFC 9.89979970751934\n",
      "HFC 379 SYMC 9.89852663600687\n",
      "SYMC 291 NDAQ 9.851470395102563\n",
      "NDAQ 209 ICE 9.847217819866863\n",
      "ICE ---\n",
      "246 LH 0.08034818977056603\n",
      "LH 194 HFC 0.07968048508122033\n",
      "HFC 379 SYMC 0.07967024433144394\n",
      "SYMC 291 NDAQ 0.07929149936555853\n",
      "NDAQ 209 ICE 0.07925725659194546\n",
      "ICE \n"
     ]
    },
    {
     "data": {
      "image/png": "[encoded data removed]",
      "text/plain": [
       "<Figure size 432x288 with 1 Axes>"
      ]
     },
     "metadata": {
      "needs_background": "light"
     },
     "output_type": "display_data"
    },
    {
     "name": "stdout",
     "output_type": "stream",
     "text": [
      "\n",
      "\n",
      "54 BA 8.496127794674024\n",
      "BA 276 MNST 8.452833453312417\n",
      "MNST 442 ZION 8.44622969707857\n",
      "ZION 236 KMB 8.44622969707857\n",
      "KMB 426 WHR 8.43059630796041\n",
      "WHR ---\n",
      "54 BA 0.08190831627902642\n",
      "BA 276 MNST 0.08149091964377778\n",
      "MNST 442 ZION 0.0814272568256148\n",
      "ZION 236 KMB 0.0814272568256148\n",
      "KMB 426 WHR 0.0812765181124823\n",
      "WHR \n"
     ]
    },
    {
     "data": {
      "image/png": "[encoded data removed]",
      "text/plain": [
       "<Figure size 432x288 with 1 Axes>"
      ]
     },
     "metadata": {
      "needs_background": "light"
     },
     "output_type": "display_data"
    },
    {
     "name": "stdout",
     "output_type": "stream",
     "text": [
      "\n",
      "\n",
      "306 NVDA 0.06141635985137423\n",
      "NVDA 195 HIG 0.054761812533810655\n",
      "HIG 117 DISCA 0.05230013178810103\n",
      "DISCA 63 BK 0.05230013178810102\n",
      "BK 248 LLL 0.049155591934995455\n",
      "LLL ---\n",
      "306 NVDA 0.0031300403504793454\n",
      "NVDA 195 HIG 0.0027908980264662975\n",
      "HIG 63 BK 0.0026654528965304306\n",
      "BK 117 DISCA 0.0026654528965304306\n",
      "DISCA 248 LLL 0.002505192763664463\n",
      "LLL \n"
     ]
    },
    {
     "data": {
      "image/png": "[encoded data removed]",
      "text/plain": [
       "<Figure size 432x288 with 1 Axes>"
      ]
     },
     "metadata": {
      "needs_background": "light"
     },
     "output_type": "display_data"
    },
    {
     "name": "stdout",
     "output_type": "stream",
     "text": [
      "\n",
      "\n"
     ]
    }
   ],
   "source": [
    "for factor in range(5):\n",
    "    plt.plot(list(C[:, factor]))\n",
    "    plt.title('Factor {}'.format(factor))\n",
    "    # print(A[:20, factor].data)\n",
    "    # print(B[:20, factor].data)\n",
    "    for a in A[:, factor].todense().argsort()[::-1][:5]:\n",
    "        print(a,id_to_stock[a],A[a,factor])\n",
    "        print(id_to_stock[a], end=' ')\n",
    "        # print()\n",
    "        # print()\n",
    "    print('---')\n",
    "    for b in B[:, factor].todense().argsort()[::-1][:5]:\n",
    "        print(b,id_to_stock[b],B[b,factor])\n",
    "        print(id_to_stock[b], end=' ')\n",
    "        # print()\n",
    "        # print()\n",
    "    print()\n",
    "    plt.show()\n",
    "    print()\n",
    "    print()"
   ]
  },
  {
   "cell_type": "code",
   "execution_count": null,
   "metadata": {},
   "outputs": [],
   "source": []
  }
 ],
 "metadata": {
  "kernelspec": {
   "display_name": "Python 3",
   "language": "python",
   "name": "python3"
  },
  "language_info": {
   "codemirror_mode": {
    "name": "ipython",
    "version": 3
   },
   "file_extension": ".py",
   "mimetype": "text/x-python",
   "name": "python",
   "nbconvert_exporter": "python",
   "pygments_lexer": "ipython3",
   "version": "3.7.2"
  }
 },
 "nbformat": 4,
 "nbformat_minor": 2
}
