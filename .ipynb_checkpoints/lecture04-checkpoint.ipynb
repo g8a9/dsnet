{
 "cells": [
  {
   "cell_type": "code",
   "execution_count": 1,
   "metadata": {},
   "outputs": [
    {
     "ename": "ModuleNotFoundError",
     "evalue": "No module named 'numpy'",
     "output_type": "error",
     "traceback": [
      "\u001b[0;31m---------------------------------------------------------------------------\u001b[0m",
      "\u001b[0;31mModuleNotFoundError\u001b[0m                       Traceback (most recent call last)",
      "\u001b[0;32m<ipython-input-1-16feff5fb98c>\u001b[0m in \u001b[0;36m<module>\u001b[0;34m\u001b[0m\n\u001b[0;32m----> 1\u001b[0;31m \u001b[0;32mimport\u001b[0m \u001b[0mnumpy\u001b[0m \u001b[0;32mas\u001b[0m \u001b[0mnp\u001b[0m\u001b[0;34m\u001b[0m\u001b[0;34m\u001b[0m\u001b[0m\n\u001b[0m\u001b[1;32m      2\u001b[0m \u001b[0;32mimport\u001b[0m \u001b[0mmatplotlib\u001b[0m\u001b[0;34m.\u001b[0m\u001b[0mpyplot\u001b[0m \u001b[0;32mas\u001b[0m \u001b[0mplt\u001b[0m\u001b[0;34m\u001b[0m\u001b[0;34m\u001b[0m\u001b[0m\n\u001b[1;32m      3\u001b[0m \u001b[0;34m\u001b[0m\u001b[0m\n\u001b[1;32m      4\u001b[0m \u001b[0mplt\u001b[0m\u001b[0;34m.\u001b[0m\u001b[0mion\u001b[0m\u001b[0;34m(\u001b[0m\u001b[0;34m)\u001b[0m\u001b[0;34m\u001b[0m\u001b[0;34m\u001b[0m\u001b[0m\n",
      "\u001b[0;31mModuleNotFoundError\u001b[0m: No module named 'numpy'"
     ]
    }
   ],
   "source": [
    "import numpy as np\n",
    "import matplotlib.pyplot as plt\n",
    "\n",
    "plt.ion()"
   ]
  },
  {
   "cell_type": "code",
   "execution_count": 24,
   "metadata": {},
   "outputs": [
    {
     "data": {
      "text/plain": [
       "<matplotlib.text.Text at 0x114d0ef90>"
      ]
     },
     "execution_count": 24,
     "metadata": {},
     "output_type": "execute_result"
    },
    {
     "data": {
      "image/png": "[encoded data removed]",
      "text/plain": [
       "<matplotlib.figure.Figure at 0x114ad4f10>"
      ]
     },
     "metadata": {},
     "output_type": "display_data"
    }
   ],
   "source": [
    "p0_is_s = np.array([1,0,0])\n",
    "p0_is_c = np.array([0,1,0])\n",
    "p0_is_r = np.array([0,0,1])\n",
    "\n",
    "P = np.array([[0.6,0.3,0.1],[0.2,0.3,0.5],[0.4,0.1,0.5]])\n",
    "\n",
    "T=20\n",
    "x_s = np.zeros((T,3))\n",
    "x_c = np.zeros((T,3))\n",
    "x_s[0] = np.array([1,0,0])\n",
    "x_c[0] = np.array([0,1,0])\n",
    "for i in range(1,T):\n",
    "    x_s[i] = x_s[i-1].dot(P)\n",
    "    x_c[i] = x_c[i-1].dot(P)\n",
    "\n",
    "plt.subplots(1,1,figsize=(5,4))\n",
    "plt.plot(x_s[:,0],'y-',label=r'$X_t=s|X_0=s$')\n",
    "plt.plot(x_s[:,1],'k-',label=r'$X_t=c|X_0=s$')\n",
    "plt.plot(x_s[:,2],'b-',label=r'$X_t=r|X_0=s$')\n",
    "\n",
    "plt.plot(x_c[:,0],'y--',label=r'$X_t=s|X_0=c$')\n",
    "plt.plot(x_c[:,1],'k--',label=r'$X_t=c|X_0=c$')\n",
    "plt.plot(x_c[:,2],'b--',label=r'$X_t=r|X_0=c$')\n",
    "\n",
    "plt.legend(ncol=2)\n",
    "plt.ylabel(r'$\\pi_t$')\n",
    "plt.xlabel('time t')"
   ]
  },
  {
   "cell_type": "code",
   "execution_count": 26,
   "metadata": {},
   "outputs": [
    {
     "data": {
      "text/plain": [
       "array([ 0.44117647,  0.23529412,  0.32352941])"
      ]
     },
     "execution_count": 26,
     "metadata": {},
     "output_type": "execute_result"
    }
   ],
   "source": [
    "x_c[-1,:]"
   ]
  },
  {
   "cell_type": "code",
   "execution_count": 37,
   "metadata": {},
   "outputs": [
    {
     "name": "stdout",
     "output_type": "stream",
     "text": [
      "[[ 0.74079720+0.j         -0.35355339-0.35355339j -0.35355339+0.35355339j]\n",
      " [ 0.39509184+0.j         -0.35355339+0.35355339j -0.35355339-0.35355339j]\n",
      " [ 0.54325128+0.j          0.70710678+0.j          0.70710678-0.j        ]]\n",
      "[ 0.44117647+0.j  0.23529412+0.j  0.32352941+0.j]\n"
     ]
    }
   ],
   "source": [
    "vals,vecs = np.linalg.eig(P.T)\n",
    "print(vecs)\n",
    "print(vecs[:,0]/vecs[:,0].sum())"
   ]
  },
  {
   "cell_type": "markdown",
   "metadata": {
    "collapsed": true
   },
   "source": [
    "## Network Sampling and Estimation\n",
    "\n",
    "If you are not concerned about estimation and all that you need is the sampled graph, you can try  https://github.com/Ashish7129/Graph-Sampling with Python 2. This code is based on NetworkX.\n",
    "\n",
    "However, in our class, we will need the sequence of sampled edges to obtain estimates."
   ]
  },
  {
   "cell_type": "code",
   "execution_count": 35,
   "metadata": {},
   "outputs": [
    {
     "name": "stdout",
     "output_type": "stream",
     "text": [
      "36692\n"
     ]
    }
   ],
   "source": [
    "import networkx as nx\n",
    "import numpy as np\n",
    "\n",
    "\n",
    "# read facebook network edge list \"fb.txt\" and return a graph g. \n",
    "g = nx.read_edgelist('../../email-Enron.txt.gz', create_using= nx.Graph(), nodetype=int)\n",
    "n = g.number_of_nodes()\n",
    "print(n)"
   ]
  },
  {
   "cell_type": "code",
   "execution_count": 36,
   "metadata": {},
   "outputs": [],
   "source": [
    "def UniformRW(g, seed, B):\n",
    "    node_seq = []\n",
    "    curr_node = seed\n",
    "    for i in range(B):\n",
    "\n",
    "    return node_seq"
   ]
  },
  {
   "cell_type": "code",
   "execution_count": 45,
   "metadata": {},
   "outputs": [],
   "source": [
    "node_seq = UniformRW(g, 0, int(n*0.1))"
   ]
  },
  {
   "cell_type": "code",
   "execution_count": 62,
   "metadata": {},
   "outputs": [
    {
     "name": "stdout",
     "output_type": "stream",
     "text": [
      "Real fraction of nodes with degree 10: 0.016025291616701187\n"
     ]
    }
   ],
   "source": [
    "# compute fraction of nodes with degree 10\n",
    "\n",
    "target_deg = 10\n",
    "def f(g, node_id):\n",
    "    return 1*(g.degree(node_id) == target_deg)\n",
    "\n",
    "num = 0.0\n",
    "for node_id in g.nodes():\n",
    "    num += \n",
    "    \n",
    "print('Real fraction of nodes with degree {}: {}'.format(target_deg,num/g.number_of_nodes()))"
   ]
  },
  {
   "cell_type": "code",
   "execution_count": 63,
   "metadata": {},
   "outputs": [
    {
     "name": "stdout",
     "output_type": "stream",
     "text": [
      "(UniformRW) Estimated fraction of nodes with degree 10: 0.01768546587768233\n"
     ]
    }
   ],
   "source": [
    "def estimator(g, fun, node_seq):\n",
    "    num = \n",
    "    den = \n",
    "    for node_id, inv_weight in node_seq:\n",
    "\n",
    "    return num/den\n",
    "    \n",
    "print('(UniformRW) Estimated fraction of nodes with degree 10:', estimator(g, f, node_seq))"
   ]
  },
  {
   "cell_type": "code",
   "execution_count": 64,
   "metadata": {},
   "outputs": [],
   "source": [
    "def RWwithJumps(g, seed, B, w=1.0):\n",
    "    node_seq = []\n",
    "    curr_node = seed\n",
    "    for i in range(B):\n",
    "\n",
    "    return node_seq"
   ]
  },
  {
   "cell_type": "code",
   "execution_count": 67,
   "metadata": {},
   "outputs": [
    {
     "name": "stdout",
     "output_type": "stream",
     "text": [
      "(RWwithJumps) Estimated fraction of nodes with degree 10: 0.017722484745201418\n"
     ]
    }
   ],
   "source": [
    "node_seq2 = RWwithJumps(g, 0, int(n*0.1))\n",
    "print('(RWwithJumps) Estimated fraction of nodes with degree 10:', estimator(g, f, node_seq2))"
   ]
  },
  {
   "cell_type": "code",
   "execution_count": null,
   "metadata": {},
   "outputs": [],
   "source": []
  }
 ],
 "metadata": {
  "anaconda-cloud": {},
  "kernelspec": {
   "display_name": "Python 3",
   "language": "python",
   "name": "python3"
  },
  "language_info": {
   "codemirror_mode": {
    "name": "ipython",
    "version": 3
   },
   "file_extension": ".py",
   "mimetype": "text/x-python",
   "name": "python",
   "nbconvert_exporter": "python",
   "pygments_lexer": "ipython3",
   "version": "3.7.2"
  }
 },
 "nbformat": 4,
 "nbformat_minor": 2
}
