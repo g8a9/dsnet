{
 "cells": [
  {
   "cell_type": "markdown",
   "metadata": {},
   "source": [
    "# Data Science for Networks"
   ]
  },
  {
   "cell_type": "code",
   "execution_count": 1,
   "metadata": {},
   "outputs": [],
   "source": [
    "%matplotlib inline\n",
    "\n",
    "import os\n",
    "import pandas as pd\n",
    "import matplotlib.pyplot as plt\n",
    "import time"
   ]
  },
  {
   "cell_type": "markdown",
   "metadata": {},
   "source": [
    "#### Stock pre-processing"
   ]
  },
  {
   "cell_type": "code",
   "execution_count": 2,
   "metadata": {},
   "outputs": [
    {
     "data": {
      "text/plain": [
       "502"
      ]
     },
     "execution_count": 2,
     "metadata": {},
     "output_type": "execute_result"
    }
   ],
   "source": [
    "def _date_parser(x):\n",
    "    return pd.to_datetime(x, yearfirst=True, format='%Y-%m-%d')\n",
    "\n",
    "data_dir = 'historical-prices'\n",
    "files = os.listdir(data_dir)\n",
    "files.sort()\n",
    "len(files)"
   ]
  },
  {
   "cell_type": "markdown",
   "metadata": {},
   "source": [
    "Retain only stocks whose series are complete between year-X and year-Y."
   ]
  },
  {
   "cell_type": "code",
   "execution_count": 3,
   "metadata": {
    "scrolled": true
   },
   "outputs": [
    {
     "data": {
      "text/plain": [
       "501"
      ]
     },
     "execution_count": 3,
     "metadata": {},
     "output_type": "execute_result"
    }
   ],
   "source": [
    "desired_size = 251 # 503 for 2016+2017\n",
    "stock_series = []\n",
    "for file in files:\n",
    "    df = pd.read_csv(os.path.join(data_dir, file), header=0, index_col=0, parse_dates=True, \n",
    "                     date_parser=_date_parser)    \n",
    "    s = df.loc['2017':'2017', 'Close']\n",
    "    s.name = file.split('_')[0]\n",
    "    # print(s.size)\n",
    "    if s.size == desired_size:\n",
    "        stock_series += [s]\n",
    "len(stock_series)"
   ]
  },
  {
   "cell_type": "markdown",
   "metadata": {},
   "source": [
    "Find relative difference with respect to the previous day."
   ]
  },
  {
   "cell_type": "code",
   "execution_count": 4,
   "metadata": {},
   "outputs": [],
   "source": [
    "diffs = [s.diff() for s in stock_series]\n",
    "pdiffs = [s.diff() / s.shift(1) for s in stock_series]\n",
    "pdiffs = [s[1:] for s in pdiffs]\n",
    "pdiffs = pdiffs[:-1]\n",
    "\n",
    "stock_to_id = {}\n",
    "id_to_stock = {}\n",
    "for stock in pdiffs:\n",
    "    stock_to_id[stock.name] = len(stock_to_id)\n",
    "    id_to_stock[len(stock_to_id) - 1] = stock.name"
   ]
  },
  {
   "cell_type": "markdown",
   "metadata": {},
   "source": [
    "#### Define tensor and decompose"
   ]
  },
  {
   "cell_type": "code",
   "execution_count": 5,
   "metadata": {
    "scrolled": true
   },
   "outputs": [
    {
     "data": {
      "text/plain": [
       "(500, 500, 250)"
      ]
     },
     "execution_count": 5,
     "metadata": {},
     "output_type": "execute_result"
    }
   ],
   "source": [
    "# tensor shape\n",
    "r_len = c_len = len(pdiffs)\n",
    "t_len = pdiffs[0].size\n",
    "r_len, c_len, t_len"
   ]
  },
  {
   "cell_type": "markdown",
   "metadata": {},
   "source": [
    "Numpy implementation -> large memory consumption ?"
   ]
  },
  {
   "cell_type": "code",
   "execution_count": 6,
   "metadata": {},
   "outputs": [],
   "source": [
    "import numpy as np"
   ]
  },
  {
   "cell_type": "code",
   "execution_count": 9,
   "metadata": {},
   "outputs": [
    {
     "name": "stdout",
     "output_type": "stream",
     "text": [
      "t: 249/250elapsed 183 secs\n"
     ]
    }
   ],
   "source": [
    "X = np.zeros(shape=(r_len, c_len, t_len))\n",
    "\n",
    "# growth threshold\n",
    "tr = 0.01\n",
    "\n",
    "start_time = time.time()\n",
    "for t in range(t_len):\n",
    "    print('\\rt: {}/{}'.format(t+1, t_len), end='')\n",
    "    for i, item_i in enumerate(pdiffs):\n",
    "        \n",
    "        # use symmetry\n",
    "        for j in range(i+1):\n",
    "            # print(i, j)\n",
    "            if i == j:\n",
    "                X[i][j][t] = 0\n",
    "                continue\n",
    "            \n",
    "            item_j = pdiffs[j]\n",
    "            if item_i.iloc[t] > tr and item_j.iloc[t] > tr:\n",
    "                X[i][j][t] = 1\n",
    "                X[j][i][t] = 1\n",
    "            else:\n",
    "                X[i][j][t] = 0\n",
    "print()\n",
    "print('elapsed {} secs'.format(int(time.time() - start_time)))      "
   ]
  },
  {
   "cell_type": "code",
   "execution_count": 13,
   "metadata": {},
   "outputs": [],
   "source": [
    "import tensorly as tl\n",
    "from tensorly.decomposition import parafac, non_negative_parafac\n",
    "\n",
    "TX = tl.tensor(X)"
   ]
  },
  {
   "cell_type": "markdown",
   "metadata": {},
   "source": [
    "Decompose evaluating (time) and MSE give a number **R** of components."
   ]
  },
  {
   "cell_type": "code",
   "execution_count": 18,
   "metadata": {
    "scrolled": true
   },
   "outputs": [
    {
     "name": "stdout",
     "output_type": "stream",
     "text": [
      "1 elapsed:  3 2245026.3935451806\n",
      "2 elapsed:  31 2169174.25539474\n",
      "3 elapsed:  56 2100419.327487269\n",
      "4 elapsed:  107 2044895.2946105453\n",
      "5 elapsed:  143 1995854.1075234357\n",
      "6 elapsed:  181 1951252.5264304136\n",
      "7 elapsed:  228 1910379.8105484943\n",
      "8 elapsed:  272 1862881.152684178\n",
      "9 elapsed:  319 1821553.802805954\n",
      "10 elapsed:  396 1784531.0086555453\n",
      "11 elapsed:  443 1743674.0624196199\n",
      "12 elapsed:  491 1705471.8277120457\n",
      "13 elapsed:  531 1669088.366138607\n",
      "14 elapsed:  582 1638175.0941014115\n",
      "15 elapsed:  625 1604136.2427617796\n",
      "16 elapsed:  668 1570984.3886461079\n",
      "17 elapsed:  704 1541032.9206447534\n",
      "18 elapsed:  745 1513267.2225004856\n",
      "19 elapsed:  787 1483704.4352802308\n",
      "20 elapsed:  844 1456496.0005878701\n",
      "21 elapsed:  903 1427166.2360694362\n",
      "22 elapsed:  971 1402003.6576070262\n",
      "23 elapsed:  1022 1375510.6040231802\n",
      "24 elapsed:  1065 1345630.925237944\n",
      "25 elapsed:  1106 1320713.1165785652\n",
      "26 elapsed:  1147 1294398.729899865\n",
      "27 elapsed:  1190 1271094.558847383\n",
      "28 elapsed:  1218 1247385.4595094107\n",
      "29 elapsed:  1294 1224354.3640768141\n",
      "30 elapsed:  1378 1205864.946899957\n",
      "31 elapsed:  1463 1187045.4647400419\n",
      "32 elapsed:  1548 1168198.9716899318\n",
      "33 elapsed:  1634 1144702.2085171046\n",
      "34 elapsed:  1724 1126069.863149767\n",
      "35 elapsed:  1753 1107250.370782404\n",
      "36 elapsed:  1782 1088487.4445246859\n",
      "37 elapsed:  1841 1074886.640382637\n",
      "38 elapsed:  1875 1060455.1438699365\n",
      "39 elapsed:  1909 1045758.0390758308\n",
      "40 elapsed:  1947 1028874.2535700534\n",
      "41 elapsed:  1986 1015991.3496185457\n",
      "42 elapsed:  2015 1002621.7385777964\n",
      "43 elapsed:  2044 987896.7228462652\n",
      "44 elapsed:  2072 973139.9673463103\n",
      "45 elapsed:  2101 960518.2113246154\n",
      "46 elapsed:  2132 946529.0777341813\n",
      "47 elapsed:  2165 933401.8951797929\n",
      "48 elapsed:  2194 919758.5266979907\n",
      "49 elapsed:  2223 904977.8165875947\n",
      "50 elapsed:  2252 890415.4144267668\n",
      "51 elapsed:  2282 873411.5928958117\n",
      "52 elapsed:  2312 861155.0251861893\n",
      "53 elapsed:  2342 850591.2626742527\n",
      "54 elapsed:  2374 840281.0220852725\n",
      "55 elapsed:  2404 827238.2026063084\n",
      "56 elapsed:  2447 810061.355171995\n",
      "57 elapsed:  2479 798998.7300800807\n",
      "58 elapsed:  2515 787821.856192846\n",
      "59 elapsed:  2550 782554.355745048\n",
      "60 elapsed:  2585 765785.6681741964\n",
      "61 elapsed:  2618 755846.9521523316\n",
      "62 elapsed:  2651 746196.151018862\n",
      "63 elapsed:  2682 743415.4695525264\n",
      "64 elapsed:  2713 733211.1034933646\n",
      "65 elapsed:  2809 718539.5236058098\n",
      "66 elapsed:  2906 705880.9292901983\n",
      "67 elapsed:  2989 694530.9079538675\n",
      "68 elapsed:  3033 685088.8876960435\n",
      "69 elapsed:  3104 676611.4791724724\n",
      "70 elapsed:  3177 665688.9888691761\n",
      "71 elapsed:  3257 657318.3568408766\n",
      "72 elapsed:  3350 648270.016109588\n",
      "73 elapsed:  3447 661430.0094069608\n",
      "74 elapsed:  3546 645172.4212072964\n",
      "75 elapsed:  3647 635898.5092248694\n",
      "76 elapsed:  3747 627656.5024892415\n",
      "77 elapsed:  3847 618466.0355724188\n",
      "78 elapsed:  3949 606953.2391045401\n",
      "79 elapsed:  4053 585938.8233710373\n",
      "80 elapsed:  4154 587617.5617052674\n",
      "81 elapsed:  4257 597737.1542322185\n",
      "82 elapsed:  4361 589744.1162012352\n",
      "83 elapsed:  4465 581714.7393616242\n",
      "84 elapsed:  4568 574327.0572552289\n",
      "85 elapsed:  4672 566610.6188782325\n",
      "86 elapsed:  4777 559483.8027807932\n",
      "87 elapsed:  4883 551984.9035064391\n",
      "88 elapsed:  4989 544410.6276839238\n",
      "89 elapsed:  5094 528854.8011136645\n",
      "90 elapsed:  5180 520904.7330395152\n",
      "91 elapsed:  5268 514266.0353047289\n",
      "92 elapsed:  5354 504119.9048240833\n",
      "93 elapsed:  5441 489533.21563888044\n",
      "94 elapsed:  5528 485629.7909207834\n",
      "95 elapsed:  5616 478988.71013028984\n",
      "96 elapsed:  5704 468765.04714018945\n",
      "97 elapsed:  5793 468784.6152923863\n",
      "98 elapsed:  5882 462262.0832793771\n",
      "99 elapsed:  5973 453543.0146091073\n",
      "100 elapsed:  6061 453803.97390576516\n"
     ]
    }
   ],
   "source": [
    "import math\n",
    "\n",
    "start_time = time.time()\n",
    "\n",
    "times = []\n",
    "errors = []\n",
    "for r in range(1, 101):\n",
    "    A, B, C = parafac(TX, r)\n",
    "    sec = int(time.time() - start_time)\n",
    "    \n",
    "    TX_H = np.einsum('ir,jr,kr->ijk', A, B, C, optimize=True)\n",
    "    err = TX - TX_H\n",
    "    err = math.pow(np.linalg.norm(err), 2)\n",
    "    \n",
    "    print(r, 'elapsed:', sec, err)\n",
    "    times += [sec]\n",
    "    errors += [err]\n",
    "\n",
    "# for r in range(1, t_len + 1):\n",
    "#     start_time = time.time()\n",
    "#     A, B, C = parafac(TX, r)\n",
    "#     print('elapsed: ', int(time.time() - start_time))\n",
    "    \n",
    "    # use non-negative parafact decomposition\n",
    "    # start_time = time.time()\n",
    "    # A, B, C = nnpar(NPX, r)\n",
    "    # print('elapsed: ', int(time.time() - start_time))"
   ]
  },
  {
   "cell_type": "code",
   "execution_count": 20,
   "metadata": {
    "scrolled": true
   },
   "outputs": [
    {
     "name": "stdout",
     "output_type": "stream",
     "text": [
      "101 elapsed: 6805 441823.6253927126\n",
      "102 elapsed: 6895 435545.98058485077\n",
      "103 elapsed: 6987 428820.83294759446\n",
      "104 elapsed: 7078 404655.0890420906\n",
      "105 elapsed: 7170 412432.2590975276\n",
      "106 elapsed: 7261 404807.24012341956\n",
      "107 elapsed: 7355 391429.1815388876\n",
      "108 elapsed: 7446 396435.8027395714\n",
      "109 elapsed: 7539 390270.4922367608\n",
      "110 elapsed: 7632 374390.5022883023\n",
      "111 elapsed: 7727 367278.47188044013\n",
      "112 elapsed: 7819 363097.93768570776\n",
      "113 elapsed: 7913 355418.4006500145\n",
      "114 elapsed: 8008 354056.71989037347\n",
      "115 elapsed: 8103 344914.51123055856\n",
      "116 elapsed: 8197 336850.51583737426\n",
      "117 elapsed: 8292 329819.8590622124\n",
      "118 elapsed: 8387 330186.21377187775\n",
      "119 elapsed: 8483 326673.95721388474\n",
      "120 elapsed: 8579 318201.0022517617\n",
      "121 elapsed: 8676 309235.545601761\n",
      "122 elapsed: 8772 302134.33104411315\n",
      "123 elapsed: 8870 306846.76457789016\n",
      "124 elapsed: 8966 291334.9703026552\n",
      "125 elapsed: 9065 284728.28276851994\n",
      "126 elapsed: 9163 285760.77596260194\n",
      "127 elapsed: 9263 277479.01669868187\n",
      "128 elapsed: 9361 276833.6770790417\n",
      "129 elapsed: 9461 272291.34523728\n",
      "130 elapsed: 9560 263921.3781564906\n",
      "131 elapsed: 9660 258606.3243390953\n",
      "132 elapsed: 9760 254365.6644764986\n",
      "133 elapsed: 9860 250811.11763162102\n",
      "134 elapsed: 9960 246627.93508130076\n",
      "135 elapsed: 10063 252489.87429395146\n",
      "136 elapsed: 10164 245569.84281851444\n",
      "137 elapsed: 10267 241391.19207946828\n",
      "138 elapsed: 10370 233029.3735314129\n",
      "139 elapsed: 10474 229410.51871540272\n",
      "140 elapsed: 10575 224161.88574768824\n",
      "141 elapsed: 10680 225170.49524645196\n",
      "142 elapsed: 10784 222484.39600345516\n",
      "143 elapsed: 10888 216428.07257091624\n",
      "144 elapsed: 10991 212624.79637690663\n",
      "145 elapsed: 11096 206934.23375125788\n",
      "146 elapsed: 11200 203283.83973128445\n",
      "147 elapsed: 11306 198399.4701563525\n",
      "148 elapsed: 11411 192112.42447167577\n",
      "149 elapsed: 11518 182638.0736173705\n",
      "150 elapsed: 11624 189784.7453223396\n",
      "151 elapsed: 11731 176651.76923554993\n",
      "152 elapsed: 11837 176527.3714584025\n",
      "153 elapsed: 11945 172199.90871055998\n",
      "154 elapsed: 12051 176011.9191803804\n",
      "155 elapsed: 12160 167928.28852093618\n",
      "156 elapsed: 12266 165642.44645441818\n",
      "157 elapsed: 12374 160945.03048231293\n",
      "158 elapsed: 12483 158510.35609663322\n",
      "159 elapsed: 12592 159945.7746545409\n",
      "160 elapsed: 12700 151339.2563278208\n",
      "161 elapsed: 12809 148263.5618723382\n",
      "162 elapsed: 12918 145945.9518052287\n",
      "163 elapsed: 13029 143275.92185489385\n",
      "164 elapsed: 13139 140499.09638415117\n",
      "165 elapsed: 13249 136840.22416274284\n",
      "166 elapsed: 13360 134001.96667428242\n",
      "167 elapsed: 13471 133319.39122804574\n",
      "168 elapsed: 13583 135606.6267740953\n",
      "169 elapsed: 13695 128450.35558771712\n",
      "170 elapsed: 13807 128876.05574249197\n",
      "171 elapsed: 13921 120719.56228817922\n",
      "172 elapsed: 14034 123093.47010677145\n",
      "173 elapsed: 14147 118263.33940848944\n",
      "174 elapsed: 14260 115850.79280397366\n",
      "175 elapsed: 14375 114001.91765298734\n",
      "176 elapsed: 14488 111607.2723613371\n",
      "177 elapsed: 14602 103837.78203417154\n",
      "178 elapsed: 14716 107565.12521591244\n",
      "179 elapsed: 14831 104497.81629468175\n",
      "180 elapsed: 14945 102260.76171184557\n",
      "181 elapsed: 15061 96610.96070576042\n",
      "182 elapsed: 15176 92891.85861943697\n",
      "183 elapsed: 15293 91183.4522987612\n",
      "184 elapsed: 15408 92029.68065765734\n",
      "185 elapsed: 15526 90677.74040674006\n",
      "186 elapsed: 15643 89843.80974078085\n",
      "187 elapsed: 15764 84649.70534363117\n",
      "188 elapsed: 15881 78635.02719702336\n",
      "189 elapsed: 16000 79102.32642542901\n",
      "190 elapsed: 16120 80166.93329944885\n",
      "191 elapsed: 16240 80792.04941345358\n",
      "192 elapsed: 16362 78578.66790004511\n",
      "193 elapsed: 16483 71767.23367514324\n",
      "194 elapsed: 16604 75423.62065490539\n",
      "195 elapsed: 16726 77390.7278145262\n",
      "196 elapsed: 16847 68828.43974216733\n",
      "197 elapsed: 16969 67911.36123019848\n",
      "198 elapsed: 17092 65995.19393311154\n",
      "199 elapsed: 17215 64071.88877904482\n",
      "200 elapsed: 17337 64817.7609768892\n"
     ]
    }
   ],
   "source": [
    "for r in range(101, 201):\n",
    "    A, B, C = parafac(TX, r)\n",
    "    sec = int(time.time() - start_time)\n",
    "    \n",
    "    TX_H = np.einsum('ir,jr,kr->ijk', A, B, C, optimize=True)\n",
    "    err = TX - TX_H\n",
    "    err = math.pow(np.linalg.norm(err), 2)\n",
    "    \n",
    "    print(r, 'elapsed:', sec, err)\n",
    "    times += [sec]\n",
    "    errors += [err]"
   ]
  },
  {
   "cell_type": "code",
   "execution_count": 41,
   "metadata": {},
   "outputs": [
    {
     "data": {
      "image/png": "[encoded data removed]",
      "text/plain": [
       "<Figure size 1080x432 with 1 Axes>"
      ]
     },
     "metadata": {
      "needs_background": "light"
     },
     "output_type": "display_data"
    }
   ],
   "source": [
    "plt.rcParams['figure.figsize'] = [15, 6]\n",
    "plt.plot(np.arange(1, 201), errors)\n",
    "plt.axvline(x=52, color='r')\n",
    "plt.savefig(\"errors_trend_line.png\")\n",
    "plt.show()"
   ]
  },
  {
   "cell_type": "code",
   "execution_count": 32,
   "metadata": {},
   "outputs": [
    {
     "data": {
      "text/plain": [
       "52"
      ]
     },
     "execution_count": 32,
     "metadata": {},
     "output_type": "execute_result"
    }
   ],
   "source": [
    "second_derivative = []\n",
    "\n",
    "for j in range(1, 199):\n",
    "    a = errors[j - 1] + errors[j + 1] - 2*errors[j]\n",
    "    if a > 0:\n",
    "        second_derivative += [a]\n",
    "    else:\n",
    "        0\n",
    "\n",
    "np.argmax(second_derivative)"
   ]
  },
  {
   "cell_type": "code",
   "execution_count": 35,
   "metadata": {},
   "outputs": [],
   "source": [
    "np_errors = np.array(errors)\n",
    "np.save(\"R_errors\", np_errors)"
   ]
  },
  {
   "cell_type": "code",
   "execution_count": null,
   "metadata": {
    "scrolled": false
   },
   "outputs": [],
   "source": [
    "for factor in range(5):\n",
    "    plt.plot(list(C[:, factor]))\n",
    "    plt.title('Factor {}'.format(factor))\n",
    "    # print(A[:20, factor].data)\n",
    "    # print(B[:20, factor].data)\n",
    "    for a in A[:, factor].todense().argsort()[::-1][:5]:\n",
    "        print(a,id_to_stock[a],A[a,factor])\n",
    "        print(id_to_stock[a], end=' ')\n",
    "        # print()\n",
    "        # print()\n",
    "    print('---')\n",
    "    for b in B[:, factor].todense().argsort()[::-1][:5]:\n",
    "        print(b,id_to_stock[b],B[b,factor])\n",
    "        print(id_to_stock[b], end=' ')\n",
    "        # print()\n",
    "        # print()\n",
    "    print()\n",
    "    plt.show()\n",
    "    print()\n",
    "    print()"
   ]
  }
 ],
 "metadata": {
  "kernelspec": {
   "display_name": "Python 3",
   "language": "python",
   "name": "python3"
  },
  "language_info": {
   "codemirror_mode": {
    "name": "ipython",
    "version": 3
   },
   "file_extension": ".py",
   "mimetype": "text/x-python",
   "name": "python",
   "nbconvert_exporter": "python",
   "pygments_lexer": "ipython3",
   "version": "3.7.2"
  }
 },
 "nbformat": 4,
 "nbformat_minor": 2
}
