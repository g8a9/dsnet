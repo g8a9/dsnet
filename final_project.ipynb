{
 "cells": [
  {
   "cell_type": "markdown",
   "metadata": {},
   "source": [
    "# Data Science for Networks"
   ]
  },
  {
   "cell_type": "code",
   "execution_count": null,
   "metadata": {},
   "outputs": [],
   "source": [
    "%matplotlib inline\n",
    "\n",
    "import os\n",
    "import pandas as pd\n",
    "import matplotlib.pyplot as plt\n",
    "import time"
   ]
  },
  {
   "cell_type": "markdown",
   "metadata": {},
   "source": [
    "#### Stock pre-processing"
   ]
  },
  {
   "cell_type": "code",
   "execution_count": null,
   "metadata": {},
   "outputs": [],
   "source": [
    "def _date_parser(x):\n",
    "    return pd.to_datetime(x, yearfirst=True, format='%Y-%m-%d')\n",
    "\n",
    "data_dir = 'historical-prices'\n",
    "files = os.listdir(data_dir)\n",
    "files.sort()\n",
    "len(files)"
   ]
  },
  {
   "cell_type": "markdown",
   "metadata": {},
   "source": [
    "Retain only stocks whose series are complete between year-X and year-Y."
   ]
  },
  {
   "cell_type": "code",
   "execution_count": null,
   "metadata": {
    "scrolled": true
   },
   "outputs": [],
   "source": [
    "desired_size = 251 # 503 for 2016+2017\n",
    "stock_series = []\n",
    "for file in files:\n",
    "    df = pd.read_csv(os.path.join(data_dir, file), header=0, index_col=0, parse_dates=True, \n",
    "                     date_parser=_date_parser)    \n",
    "    s = df.loc['2017':'2017', 'Close']\n",
    "    s.name = file.split('_')[0]\n",
    "    # print(s.size)\n",
    "    if s.size == desired_size:\n",
    "        stock_series += [s]\n",
    "len(stock_series)"
   ]
  },
  {
   "cell_type": "markdown",
   "metadata": {},
   "source": [
    "Find relative difference with respect to the previous day."
   ]
  },
  {
   "cell_type": "code",
   "execution_count": null,
   "metadata": {},
   "outputs": [],
   "source": [
    "diffs = [s.diff() for s in stock_series]\n",
    "pdiffs = [s.diff() / s.shift(1) for s in stock_series]\n",
    "pdiffs = [s[1:] for s in pdiffs]\n",
    "pdiffs = pdiffs[:-1]\n",
    "\n",
    "stock_to_id = {}\n",
    "id_to_stock = {}\n",
    "for stock in pdiffs:\n",
    "    stock_to_id[stock.name] = len(stock_to_id)\n",
    "    id_to_stock[len(stock_to_id) - 1] = stock.name"
   ]
  },
  {
   "cell_type": "markdown",
   "metadata": {},
   "source": [
    "#### Define tensor and decompose"
   ]
  },
  {
   "cell_type": "code",
   "execution_count": null,
   "metadata": {
    "scrolled": true
   },
   "outputs": [],
   "source": [
    "# tensor shape\n",
    "r_len = c_len = len(pdiffs)\n",
    "t_len = pdiffs[0].size\n",
    "r_len, c_len, t_len"
   ]
  },
  {
   "cell_type": "markdown",
   "metadata": {},
   "source": [
    "Numpy implementation -> large memory consumption ?"
   ]
  },
  {
   "cell_type": "code",
   "execution_count": null,
   "metadata": {},
   "outputs": [],
   "source": [
    "import numpy as np"
   ]
  },
  {
   "cell_type": "code",
   "execution_count": null,
   "metadata": {},
   "outputs": [],
   "source": [
    "X = np.zeros(shape=(r_len, c_len, t_len))\n",
    "\n",
    "start_time = time.time()\n",
    "for t in range(t_len):\n",
    "    print(\"t:\", t)\n",
    "    for i, item_i in enumerate(pdiffs):\n",
    "        \n",
    "        # use symmetry\n",
    "        for j in range(i+1): # enumerate(pdiffs):\n",
    "            # print(i, j)\n",
    "            if i == j:\n",
    "                X[i][j][t] = 0\n",
    "                continue\n",
    "            \n",
    "            item_j = pdiffs[j]\n",
    "            if item_i.iloc[t] > tr and item_j.iloc[t] > tr:\n",
    "                X[i][j][t] = 1\n",
    "                X[j][i][t] = 1\n",
    "            else:\n",
    "                X[i][j][t] = 0\n",
    "\n",
    "print('elapsed {} secs'.format(int(time.time() - start_time)))      "
   ]
  },
  {
   "cell_type": "code",
   "execution_count": null,
   "metadata": {},
   "outputs": [],
   "source": [
    "import tensorly as tl\n",
    "from tensorly.decomposition import parafac as par\n",
    "from tensorly.decomposition import non_negative_parafac as nnpar\n",
    "\n",
    "tl.set_backend('numpy')\n",
    "\n",
    "NPX = tl.tensor(X)"
   ]
  },
  {
   "cell_type": "code",
   "execution_count": null,
   "metadata": {},
   "outputs": [],
   "source": [
    "for r in range(1, t_len + 1):\n",
    "    start_time = time.time()\n",
    "    A, B, C = par(NPX, r)\n",
    "    print('elapsed: ', int(time.time() - start_time))\n",
    "    start_time = time.time()\n",
    "    A, B, C = nnpar(NPX, r)\n",
    "    print('elapsed: ', int(time.time() - start_time))"
   ]
  },
  {
   "cell_type": "markdown",
   "metadata": {},
   "source": [
    "Create sparse Dictionary Of Keys (see also scipy.dox_matrix)"
   ]
  },
  {
   "cell_type": "code",
   "execution_count": null,
   "metadata": {},
   "outputs": [],
   "source": [
    "import sparse\n",
    "\n",
    "'''\n",
    "EXAMPLE\n",
    "X = sparse.DOK(shape=(len(filtered_users), len(filtered_tags), len(time)))\n",
    "for user, tag, ts in filtered_mentions:\n",
    "    X[filtered_users[user], filtered_tags[tag], time[ts]] = filtered_mentions[user, tag, ts]\n",
    "X = X.to_coo()\n",
    "'''\n",
    "\n",
    "X = sparse.DOK(shape=(r_len, c_len, t_len))"
   ]
  },
  {
   "cell_type": "markdown",
   "metadata": {},
   "source": [
    "Populate sparse matrix (sequential)"
   ]
  },
  {
   "cell_type": "code",
   "execution_count": null,
   "metadata": {
    "scrolled": true
   },
   "outputs": [],
   "source": [
    "X = sparse.DOK(shape=(r_len, c_len, t_len))\n",
    "start_time = time.time()\n",
    "\n",
    "for t in range(t_len):\n",
    "    print(\"t:\", t)\n",
    "    for i, item_i in enumerate(pdiffs):\n",
    "        \n",
    "        # use symmetry\n",
    "        for j in range(i+1): # enumerate(pdiffs):\n",
    "            # print(i, j)\n",
    "            if i == j:\n",
    "                X[i, j, t] = 0\n",
    "                continue\n",
    "            \n",
    "            item_j = pdiffs[j]\n",
    "            if item_i.iloc[t] > tr and item_j.iloc[t] > tr:\n",
    "                X[i, j, t] = 1\n",
    "                X[j, i, t] = 1\n",
    "            else:\n",
    "                X[i, j, t] = 0\n",
    "\n",
    "print('elapsed {} secs'.format(int(time.time() - start_time)))           \n",
    "\n",
    "XCOO = X.to_coo()"
   ]
  },
  {
   "cell_type": "code",
   "execution_count": null,
   "metadata": {
    "scrolled": true
   },
   "outputs": [],
   "source": [
    "XCOO = X.to_coo()"
   ]
  },
  {
   "cell_type": "code",
   "execution_count": null,
   "metadata": {},
   "outputs": [],
   "source": [
    "XCOO.shape"
   ]
  },
  {
   "cell_type": "code",
   "execution_count": null,
   "metadata": {},
   "outputs": [],
   "source": [
    "import tensorly as tl\n",
    "tl.set_backend('sparse')\n",
    "\n",
    "import tensorly.contrib.sparse as tlsp\n",
    "from tensorly.contrib.sparse.decomposition import parafac\n",
    "#from tensorly.sparse.decomposition import parafac\n",
    "\n",
    "X = tlsp.tensor(XCOO)\n",
    "X"
   ]
  },
  {
   "cell_type": "markdown",
   "metadata": {},
   "source": [
    "Decompose evaluating (time) and MSE give a number **R** of components."
   ]
  },
  {
   "cell_type": "code",
   "execution_count": null,
   "metadata": {},
   "outputs": [],
   "source": [
    "for r in range(1, t_len + 1):\n",
    "    start_time = time.time()\n",
    "    A, B, C = parafac(X, r)\n",
    "    print('elapsed: ', int(time.time() - start_time))"
   ]
  },
  {
   "cell_type": "code",
   "execution_count": null,
   "metadata": {
    "scrolled": false
   },
   "outputs": [],
   "source": [
    "for factor in range(5):\n",
    "    plt.plot(list(C[:, factor]))\n",
    "    plt.title('Factor {}'.format(factor))\n",
    "    # print(A[:20, factor].data)\n",
    "    # print(B[:20, factor].data)\n",
    "    for a in A[:, factor].todense().argsort()[::-1][:5]:\n",
    "        print(a,id_to_stock[a],A[a,factor])\n",
    "        print(id_to_stock[a], end=' ')\n",
    "        # print()\n",
    "        # print()\n",
    "    print('---')\n",
    "    for b in B[:, factor].todense().argsort()[::-1][:5]:\n",
    "        print(b,id_to_stock[b],B[b,factor])\n",
    "        print(id_to_stock[b], end=' ')\n",
    "        # print()\n",
    "        # print()\n",
    "    print()\n",
    "    plt.show()\n",
    "    print()\n",
    "    print()"
   ]
  }
 ],
 "metadata": {
  "kernelspec": {
   "display_name": "Python 3",
   "language": "python",
   "name": "python3"
  },
  "language_info": {
   "codemirror_mode": {
    "name": "ipython",
    "version": 3
   },
   "file_extension": ".py",
   "mimetype": "text/x-python",
   "name": "python",
   "nbconvert_exporter": "python",
   "pygments_lexer": "ipython3",
   "version": "3.7.2"
  }
 },
 "nbformat": 4,
 "nbformat_minor": 2
}
