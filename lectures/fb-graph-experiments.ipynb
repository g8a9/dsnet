{
 "cells": [
  {
   "cell_type": "markdown",
   "metadata": {},
   "source": [
    "# Facebook Ego Graph Experiments\n",
    "---\n",
    "Run link prediction tests on all included Facebook ego networks"
   ]
  },
  {
   "cell_type": "code",
   "execution_count": 1,
   "metadata": {
    "collapsed": true
   },
   "outputs": [],
   "source": [
    "import networkx as nx\n",
    "import matplotlib.pyplot as plt\n",
    "import pandas as pd\n",
    "import link_prediction_scores as lp\n",
    "import pickle\n",
    "\n",
    "RANDOM_SEED = 0"
   ]
  },
  {
   "cell_type": "markdown",
   "metadata": {},
   "source": [
    "### Load in FB Graphs"
   ]
  },
  {
   "cell_type": "code",
   "execution_count": 2,
   "metadata": {
    "collapsed": true
   },
   "outputs": [],
   "source": [
    "#FB_EGO_USERS = [0, 107, 1684, 1912, 3437, 348, 3980, 414, 686, 698]\n",
    "FB_EGO_USERS = [0]\n",
    "\n",
    "\n",
    "fb_graphs = {} # Dictionary to store all FB ego network graphs\n",
    "\n",
    "### ----- Read in all FB ego graphs ----- ###\n",
    "# Store graphs in dictionary as (adj, features) tuples\n",
    "for user in FB_EGO_USERS:\n",
    "    network_dir = './fb-processed/{0}-adj-feat.pkl'.format(user)\n",
    "    with open(network_dir, 'rb') as f:\n",
    "        adj, features = pickle.load(f)\n",
    "    \n",
    "    # Store in dict\n",
    "    fb_graphs[user] = (adj, features)\n",
    "    \n",
    "    \n",
    "# ### ----- Read in combined FB graph ----- ###\n",
    "# combined_dir = './fb-processed/combined-adj-sparsefeat.pkl'\n",
    "# with open(combined_dir, 'rb') as f:\n",
    "#     adj, features = pickle.load(f)\n",
    "#     fb_graphs['combined'] = (adj, features)"
   ]
  },
  {
   "cell_type": "markdown",
   "metadata": {},
   "source": [
    "### Run Link Prediction Tests"
   ]
  },
  {
   "cell_type": "code",
   "execution_count": 7,
   "metadata": {},
   "outputs": [
    {
     "name": "stdout",
     "output_type": "stream",
     "text": [
      "Current experiment:  fb-0-0.25-hidden\n",
      "Generating train-test split...\n",
      "Current experiment:  fb-0-0.5-hidden\n",
      "Generating train-test split...\n",
      "Current experiment:  fb-0-0.75-hidden\n",
      "Generating train-test split...\n"
     ]
    }
   ],
   "source": [
    "fb_results = {}\n",
    "FRAC_EDGES_HIDDEN = [0.25, 0.5, 0.75]\n",
    "FB_RESULTS_DIR = './results/fb-experiment-results.pkl'\n",
    "\n",
    "# Iterate over fractions of edges to hide\n",
    "for frac_hidden in FRAC_EDGES_HIDDEN:\n",
    "    val_frac = 0.1\n",
    "    test_frac = frac_hidden - val_frac\n",
    "    \n",
    "    # Iterate over each graph\n",
    "    for g_name, graph_tuple in fb_graphs.iteritems():\n",
    "        adj = graph_tuple[0]\n",
    "        feat = graph_tuple[1]\n",
    "        \n",
    "        experiment_name = 'fb-{}-{}-hidden'.format(g_name, frac_hidden)\n",
    "        print \"Current experiment: \", experiment_name\n",
    "        \n",
    "        # Run all link prediction methods on current graph, store results\n",
    "        fb_results[experiment_name] = lp.calculate_all_scores(adj, feat, \\\n",
    "                                                     test_frac=test_frac, val_frac=val_frac, \\\n",
    "                                                     random_state=RANDOM_SEED, verbose=0)\n",
    "        \n",
    "# Save experiment results\n",
    "with open(FB_RESULTS_DIR, 'wb') as f:\n",
    "    pickle.dump(fb_results, f)"
   ]
  },
  {
   "cell_type": "code",
   "execution_count": 16,
   "metadata": {},
   "outputs": [
    {
     "name": "stdout",
     "output_type": "stream",
     "text": [
      "----------EXPERIMENT NAME: fb-0-0.25-hidden -----------\n",
      "Method: aa, ROC: 0.948093087953\n",
      "Method: n2v_dot_prod, ROC: 0.787338147478\n",
      "Method: pa, ROC: 0.871827473226\n",
      "Method: n2v_edge_emb, ROC: 0.928977782125\n",
      "Method: sc, ROC: 0.846778706919\n",
      "Method: jc, ROC: 0.808140577371\n",
      "('-----------------------------------------\\n\\n',)\n",
      "----------EXPERIMENT NAME: fb-0-0.5-hidden -----------\n",
      "Method: aa, ROC: 0.891221153173\n",
      "Method: n2v_dot_prod, ROC: 0.77994252716\n",
      "Method: pa, ROC: 0.841020744436\n",
      "Method: n2v_edge_emb, ROC: 0.899347910175\n",
      "Method: sc, ROC: 0.850011726043\n",
      "Method: jc, ROC: 0.769566121177\n",
      "('-----------------------------------------\\n\\n',)\n",
      "----------EXPERIMENT NAME: fb-0-0.75-hidden -----------\n",
      "Method: aa, ROC: 0.698538005286\n",
      "Method: n2v_dot_prod, ROC: 0.670857075941\n",
      "Method: pa, ROC: 0.812836958516\n",
      "Method: n2v_edge_emb, ROC: 0.848416114708\n",
      "Method: sc, ROC: 0.807277900136\n",
      "Method: jc, ROC: 0.654288350537\n",
      "('-----------------------------------------\\n\\n',)\n"
     ]
    }
   ],
   "source": [
    "for exp in fb_results:\n",
    "    print('----------EXPERIMENT NAME: {} -----------'.format(exp))\n",
    "    for k,v in fb_results[exp].items():\n",
    "        print('Method: {}, ROC: {}'.format(k,v['test_roc']))\n",
    "    print('-----------------------------------------\\n\\n',)"
   ]
  },
  {
   "cell_type": "code",
   "execution_count": null,
   "metadata": {
    "collapsed": true
   },
   "outputs": [],
   "source": []
  }
 ],
 "metadata": {
  "kernelspec": {
   "display_name": "Python 2",
   "language": "python",
   "name": "python2"
  },
  "language_info": {
   "codemirror_mode": {
    "name": "ipython",
    "version": 2
   },
   "file_extension": ".py",
   "mimetype": "text/x-python",
   "name": "python",
   "nbconvert_exporter": "python",
   "pygments_lexer": "ipython2",
   "version": "2.7.13"
  }
 },
 "nbformat": 4,
 "nbformat_minor": 2
}
